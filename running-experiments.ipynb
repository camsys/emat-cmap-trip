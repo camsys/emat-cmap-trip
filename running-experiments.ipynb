{
 "cells": [
  {
   "cell_type": "markdown",
   "metadata": {},
   "source": [
    "# CMAP EMAT Running Experiments"
   ]
  },
  {
   "cell_type": "code",
   "execution_count": null,
   "metadata": {
    "ExecuteTime": {
     "end_time": "2020-09-23T02:22:33.526894Z",
     "start_time": "2020-09-23T02:22:30.916991Z"
    }
   },
   "outputs": [],
   "source": [
    "import emat\n",
    "import os\n",
    "import pandas as pd\n",
    "import numpy as np\n",
    "import gzip\n",
    "from emat.util.show_dir import show_dir, show_file_contents"
   ]
  },
  {
   "cell_type": "code",
   "execution_count": null,
   "metadata": {
    "ExecuteTime": {
     "end_time": "2020-09-23T02:22:33.532017Z",
     "start_time": "2020-09-23T02:22:33.528334Z"
    }
   },
   "outputs": [],
   "source": [
    "import logging\n",
    "from emat.util.loggers import log_to_stderr\n",
    "log = log_to_stderr(logging.INFO)"
   ]
  },
  {
   "cell_type": "markdown",
   "metadata": {},
   "source": [
    "## Connecting to the Model"
   ]
  },
  {
   "cell_type": "markdown",
   "metadata": {},
   "source": [
    "The interface for this model is located in the `cmap_emat.py`\n",
    "module, which we will import into this notebook.  This file is extensively\n",
    "documented in comments, and is a great starting point for new users\n",
    "who want to edit this interface."
   ]
  },
  {
   "cell_type": "code",
   "execution_count": null,
   "metadata": {
    "ExecuteTime": {
     "end_time": "2020-09-23T02:22:34.999562Z",
     "start_time": "2020-09-23T02:22:34.967200Z"
    }
   },
   "outputs": [],
   "source": [
    "import cmap_emat"
   ]
  },
  {
   "cell_type": "markdown",
   "metadata": {},
   "source": [
    "Within this module, you will find a definition for the \n",
    "`CMAP_EMAT_Model` class.\n",
    "\n",
    "We initialize an instance of the model interface object.\n",
    "If you look at the module code, you'll note the `__init__` function\n",
    "does a number of things, including\n",
    "loading the scope, and creating a SQLite database to work within."
   ]
  },
  {
   "cell_type": "code",
   "execution_count": null,
   "metadata": {
    "ExecuteTime": {
     "end_time": "2020-09-23T02:22:36.999386Z",
     "start_time": "2020-09-23T02:22:36.708024Z"
    }
   },
   "outputs": [],
   "source": [
    "fx = cmap_emat.CMAP_EMAT_Model()"
   ]
  },
  {
   "cell_type": "code",
   "execution_count": null,
   "metadata": {},
   "outputs": [],
   "source": [
    "fx.db.log(\"running-experiments notebook init\")"
   ]
  },
  {
   "cell_type": "markdown",
   "metadata": {},
   "source": [
    "## Multiprocessing for Running Multiple Experiments\n",
    "\n"
   ]
  },
  {
   "cell_type": "markdown",
   "metadata": {},
   "source": [
    "### Automatic Multiprocessing for Running Multiple Experiments\n",
    "\n",
    "The examples above are all essentially single-process demonstrations of using TMIP-EMAT to run core model\n",
    "experiments, either by running all in one single process, or by having a user manually instantiate a number \n",
    "of single processes.  If your core model itself is multi-threaded or otherwise is designed to make \n",
    "full use of your multi-core CPU, or if a single core model run will otherwise max out some\n",
    "computational resource (e.g. RAM, disk space) then single process operation should be sufficient.\n",
    "\n",
    "If, on the other hand, your model is such that you can run multiple independent instances of\n",
    "the model side-by-side on the same machine, but you don't want to manage the process of manually, \n",
    "then you could benefit from a multiprocessing approach that uses the `dask.distributed` library.  To\n",
    "demonstrate this, we'll create yet another small design of experiments to run."
   ]
  },
  {
   "cell_type": "code",
   "execution_count": null,
   "metadata": {
    "ExecuteTime": {
     "end_time": "2020-09-23T02:23:02.476973Z",
     "start_time": "2020-09-23T02:23:02.427883Z"
    }
   },
   "outputs": [],
   "source": [
    "pending = fx.read_experiment_parameters(design_name='lhs', only_pending=True)\n",
    "pending"
   ]
  },
  {
   "cell_type": "markdown",
   "metadata": {},
   "source": [
    "The demo module is set up to facilitate distributed multiprocessing. During the `setup`\n",
    "step, a copy\n",
    "of the entire files-based model is made, and the model\n",
    "is run there instead of in the master 'clean' directory.  This allows each worker to edit the files\n",
    "independently and simultaneously, without disturbing other parallel workers.\n",
    "\n"
   ]
  },
  {
   "cell_type": "markdown",
   "metadata": {},
   "source": [
    "We are ready to run this model in parallel subprocesses.\n",
    "To do so, we can use the `async_experiments` function, which will create a client (essentially, a master process that \n",
    "will request model runs of worker processes, and handle the results as they become available).  The \n",
    "`async_experiments` function accepts a `n_workers` argument, which sets the number of worker processes.  This should\n",
    "be set at the maximum number of parallel instances of the core model that can be reasonably handled on this\n",
    "computer.  Setting this maximum excessively high will potentially cause out-of-memory errors or slow down\n",
    "the processes immensely, while setting it too low will leave computational resources unused.\n",
    "\n",
    "If the overall set of experiments is being conducted on several different\n",
    "computers, you may want to only conduct a subset of experiments on this\n",
    "computer.\n",
    "\n",
    "    fx.run_experiments(design=design.iloc[:20], evaluator=client)      # Run the first 20 experiments\n",
    "    fx.run_experiments(design=design.iloc[20:40], evaluator=client)    # Run the second 20 experiments\n",
    "    fx.run_experiments(design=design.iloc[40:60], evaluator=client)    # Run the third 20 experiments\n",
    "    fx.run_experiments(design=design.iloc[60:], evaluator=client)      # Run the remaining experiments\n",
    "    \n",
    "You can also select a subset of experiments from the end of the list by indexing with negative numbers.\n",
    "\n",
    "    fx.run_experiments(design=design.iloc[-4:], evaluator=client)      # Run the last 4 experiments\n",
    "    fx.run_experiments(design=design.iloc[-8:-4], evaluator=client)    # Run the penultimate 4 experiments\n"
   ]
  },
  {
   "cell_type": "code",
   "execution_count": null,
   "metadata": {},
   "outputs": [],
   "source": [
    "background = fx.async_experiments(\n",
    "    design=pending,\n",
    "    max_n_workers=15,\n",
    "    stagger_start=90,\n",
    ")"
   ]
  },
  {
   "cell_type": "markdown",
   "metadata": {},
   "source": [
    "If something goes wrong, it may be desirable to restart the client without\n",
    "killing this jupyter notebook itself.  The script that runs the core model\n",
    "unfortunately doesn't respond well to SIGINT's, and may try to keep going \n",
    "for quite a while.  In this case, it might be necessary to manually kill all\n",
    "the model runs and start over."
   ]
  },
  {
   "cell_type": "code",
   "execution_count": null,
   "metadata": {},
   "outputs": [],
   "source": [
    "# background.client.restart() # In case of emergency, un-comment"
   ]
  },
  {
   "cell_type": "code",
   "execution_count": null,
   "metadata": {},
   "outputs": [],
   "source": []
  }
 ],
 "metadata": {
  "jupytext": {
   "formats": "ipynb,py:percent",
   "text_representation": {
    "extension": ".py",
    "format_name": "percent",
    "format_version": "1.3",
    "jupytext_version": "1.4.2"
   }
  },
  "kernelspec": {
   "display_name": "Python 3",
   "language": "python",
   "name": "python3"
  },
  "language_info": {
   "codemirror_mode": {
    "name": "ipython",
    "version": 3
   },
   "file_extension": ".py",
   "mimetype": "text/x-python",
   "name": "python",
   "nbconvert_exporter": "python",
   "pygments_lexer": "ipython3",
   "version": "3.7.8"
  },
  "toc": {
   "base_numbering": 1,
   "nav_menu": {},
   "number_sections": true,
   "sideBar": true,
   "skip_h1_title": false,
   "title_cell": "Table of Contents",
   "title_sidebar": "Contents",
   "toc_cell": false,
   "toc_position": {},
   "toc_section_display": true,
   "toc_window_display": false
  }
 },
 "nbformat": 4,
 "nbformat_minor": 4
}
