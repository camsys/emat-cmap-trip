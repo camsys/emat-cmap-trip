{
 "cells": [
  {
   "cell_type": "markdown",
   "metadata": {},
   "source": [
    "# CMAP EMAT Database Setup"
   ]
  },
  {
   "cell_type": "code",
   "execution_count": null,
   "metadata": {
    "ExecuteTime": {
     "end_time": "2020-09-12T19:36:06.224100Z",
     "start_time": "2020-09-12T19:36:04.520539Z"
    }
   },
   "outputs": [],
   "source": [
    "import emat\n",
    "import os\n",
    "import pandas as pd\n",
    "import numpy as np\n",
    "import gzip\n",
    "from emat.util.show_dir import show_dir, show_file_contents"
   ]
  },
  {
   "cell_type": "code",
   "execution_count": null,
   "metadata": {
    "ExecuteTime": {
     "end_time": "2020-09-12T19:36:06.234144Z",
     "start_time": "2020-09-12T19:36:06.229711Z"
    }
   },
   "outputs": [],
   "source": [
    "import logging\n",
    "from emat.util.loggers import log_to_stderr\n",
    "log = log_to_stderr(logging.DEBUG)"
   ]
  },
  {
   "cell_type": "markdown",
   "metadata": {},
   "source": [
    "## Connecting to the Model"
   ]
  },
  {
   "cell_type": "markdown",
   "metadata": {},
   "source": [
    "The interface for this model is located in the `cmap_emat.py`\n",
    "module, which we will import into this notebook.  This file is extensively\n",
    "documented in comments, and is a great starting point for new users\n",
    "who want to edit this interface."
   ]
  },
  {
   "cell_type": "code",
   "execution_count": null,
   "metadata": {
    "ExecuteTime": {
     "end_time": "2020-09-12T19:36:06.254910Z",
     "start_time": "2020-09-12T19:36:06.236340Z"
    }
   },
   "outputs": [],
   "source": [
    "import cmap_emat"
   ]
  },
  {
   "cell_type": "markdown",
   "metadata": {},
   "source": [
    "Within this module, you will find a definition for the \n",
    "`CMAP_EMAT_Model` class.\n",
    "\n",
    "We initialize an instance of the model interface object.\n",
    "If you look at the module code, you'll note the `__init__` function\n",
    "does a number of things, including\n",
    "loading the scope, and creating a SQLite database to work within.\n",
    "\n",
    "**NEW**: The `unique_id` defines a copy directory next to the original main\n",
    "directory.  If you don't provide one, it is a random value.  The entire\n",
    "model is copied to the new directory before anthing else happens.  You can re-use\n",
    "the same `unique_id` and not create all-new versions.  But this way you can open\n",
    "a second notebook, change the value of `unique_id`, and run the model in parallel\n",
    "with different inputs."
   ]
  },
  {
   "cell_type": "code",
   "execution_count": null,
   "metadata": {
    "ExecuteTime": {
     "end_time": "2020-09-12T19:36:06.551725Z",
     "start_time": "2020-09-12T19:36:06.256678Z"
    }
   },
   "outputs": [],
   "source": [
    "fx = cmap_emat.CMAP_EMAT_Model(unique_id=\"cmap-emat\", db_filename=\"cmap-emat-database-04.sqlitedb\")"
   ]
  },
  {
   "cell_type": "markdown",
   "metadata": {},
   "source": [
    "## Design Experiments"
   ]
  },
  {
   "cell_type": "code",
   "execution_count": null,
   "metadata": {
    "ExecuteTime": {
     "end_time": "2020-09-12T19:36:06.590996Z",
     "start_time": "2020-09-12T19:36:06.553533Z"
    }
   },
   "outputs": [],
   "source": [
    "uni = fx.design_experiments(design_name='uni', sampler='uni')\n",
    "uni"
   ]
  },
  {
   "cell_type": "code",
   "execution_count": null,
   "metadata": {
    "ExecuteTime": {
     "end_time": "2020-09-12T19:36:06.646535Z",
     "start_time": "2020-09-12T19:36:06.592868Z"
    }
   },
   "outputs": [],
   "source": [
    "design_1 = fx.design_experiments()\n",
    "design_1"
   ]
  },
  {
   "cell_type": "markdown",
   "metadata": {
    "ExecuteTime": {
     "end_time": "2020-09-12T19:34:31.895344Z",
     "start_time": "2020-09-12T19:34:31.892902Z"
    }
   },
   "source": [
    "## Review Experiments"
   ]
  },
  {
   "cell_type": "code",
   "execution_count": null,
   "metadata": {
    "ExecuteTime": {
     "end_time": "2020-09-12T19:36:06.676806Z",
     "start_time": "2020-09-12T19:36:06.650795Z"
    }
   },
   "outputs": [],
   "source": [
    "fx.read_experiments(design_name='lhs')"
   ]
  },
  {
   "cell_type": "code",
   "execution_count": null,
   "metadata": {
    "ExecuteTime": {
     "end_time": "2020-09-12T19:36:06.700361Z",
     "start_time": "2020-09-12T19:36:06.678906Z"
    }
   },
   "outputs": [],
   "source": [
    "fx.read_experiments(design_name='uni')"
   ]
  },
  {
   "cell_type": "code",
   "execution_count": null,
   "metadata": {
    "ExecuteTime": {
     "end_time": "2020-09-12T19:36:06.704713Z",
     "start_time": "2020-09-12T19:36:06.702034Z"
    }
   },
   "outputs": [],
   "source": [
    "fx.db.conn.close()"
   ]
  },
  {
   "cell_type": "code",
   "execution_count": null,
   "metadata": {},
   "outputs": [],
   "source": []
  }
 ],
 "metadata": {
  "jupytext": {
   "formats": "ipynb,py:percent"
  },
  "kernelspec": {
   "display_name": "Python 3",
   "language": "python",
   "name": "python3"
  },
  "language_info": {
   "codemirror_mode": {
    "name": "ipython",
    "version": 3
   },
   "file_extension": ".py",
   "mimetype": "text/x-python",
   "name": "python",
   "nbconvert_exporter": "python",
   "pygments_lexer": "ipython3",
   "version": "3.7.8"
  },
  "pycharm": {
   "stem_cell": {
    "cell_type": "raw",
    "metadata": {
     "collapsed": false
    },
    "source": []
   }
  },
  "toc": {
   "base_numbering": 1,
   "nav_menu": {},
   "number_sections": true,
   "sideBar": true,
   "skip_h1_title": false,
   "title_cell": "Table of Contents",
   "title_sidebar": "Contents",
   "toc_cell": false,
   "toc_position": {
    "height": "calc(100% - 180px)",
    "left": "10px",
    "top": "150px",
    "width": "296.188px"
   },
   "toc_section_display": true,
   "toc_window_display": true
  }
 },
 "nbformat": 4,
 "nbformat_minor": 4
}
