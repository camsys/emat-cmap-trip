{
 "cells": [
  {
   "cell_type": "markdown",
   "metadata": {},
   "source": [
    "# CMAP EMAT Running Experiments"
   ]
  },
  {
   "cell_type": "code",
   "execution_count": null,
   "metadata": {
    "ExecuteTime": {
     "end_time": "2020-09-12T22:13:26.857901Z",
     "start_time": "2020-09-12T22:13:25.118407Z"
    }
   },
   "outputs": [],
   "source": [
    "import emat\n",
    "import os\n",
    "import pandas as pd\n",
    "import numpy as np\n",
    "import gzip\n",
    "from emat.util.show_dir import show_dir, show_file_contents"
   ]
  },
  {
   "cell_type": "code",
   "execution_count": null,
   "metadata": {
    "ExecuteTime": {
     "end_time": "2020-09-12T22:13:26.864436Z",
     "start_time": "2020-09-12T22:13:26.860059Z"
    }
   },
   "outputs": [],
   "source": [
    "import logging\n",
    "from emat.util.loggers import log_to_stderr\n",
    "log = log_to_stderr(logging.DEBUG)"
   ]
  },
  {
   "cell_type": "markdown",
   "metadata": {},
   "source": [
    "## Connecting to the Model"
   ]
  },
  {
   "cell_type": "markdown",
   "metadata": {},
   "source": [
    "The interface for this model is located in the `cmap_emat.py`\n",
    "module, which we will import into this notebook.  This file is extensively\n",
    "documented in comments, and is a great starting point for new users\n",
    "who want to edit this interface."
   ]
  },
  {
   "cell_type": "code",
   "execution_count": null,
   "metadata": {
    "ExecuteTime": {
     "end_time": "2020-09-12T22:13:26.895287Z",
     "start_time": "2020-09-12T22:13:26.866497Z"
    }
   },
   "outputs": [],
   "source": [
    "import cmap_emat"
   ]
  },
  {
   "cell_type": "markdown",
   "metadata": {},
   "source": [
    "Within this module, you will find a definition for the \n",
    "`CMAP_EMAT_Model` class.\n",
    "\n",
    "We initialize an instance of the model interface object.\n",
    "If you look at the module code, you'll note the `__init__` function\n",
    "does a number of things, including\n",
    "loading the scope, and creating a SQLite database to work within.\n",
    "\n",
    "**NEW**: The `unique_id` defines a copy directory next to the original main\n",
    "directory.  If you don't provide one, it is a random value.  The entire\n",
    "model is copied to the new directory before anthing else happens.  You can re-use\n",
    "the same `unique_id` and not create all-new versions.  But this way you can open\n",
    "a second notebook, change the value of `unique_id`, and run the model in parallel\n",
    "with different inputs."
   ]
  },
  {
   "cell_type": "code",
   "execution_count": null,
   "metadata": {
    "ExecuteTime": {
     "end_time": "2020-09-12T22:13:30.976186Z",
     "start_time": "2020-09-12T22:13:30.714650Z"
    }
   },
   "outputs": [],
   "source": [
    "fx = cmap_emat.CMAP_EMAT_Model(db_filename=\"cmap-emat-database.sqlitedb\")"
   ]
  },
  {
   "cell_type": "markdown",
   "metadata": {},
   "source": [
    "## Single Run Operation for Development and Debugging"
   ]
  },
  {
   "cell_type": "markdown",
   "metadata": {},
   "source": [
    "Before we take on the task of running this model in exploratory mode, we'll\n",
    "want to make sure that our interface code is working correctly. To check each\n",
    "of the components of the interface (setup, run, post-process, load-measures,\n",
    "and archive), we can run each individually in sequence, and inspect the results\n",
    "to make sure they are correct."
   ]
  },
  {
   "cell_type": "markdown",
   "metadata": {},
   "source": [
    "### setup\n",
    "\n",
    "This method is the place where the core model *set up* takes place,\n",
    "including creating or modifying files as necessary to prepare\n",
    "for a core model run.  When running experiments, this method\n",
    "is called once for each core model experiment, where each experiment\n",
    "is defined by a set of particular values for both the exogenous\n",
    "uncertainties and the policy levers.  These values are passed to\n",
    "the experiment only here, and not in the `run` method itself.\n",
    "This facilitates debugging, as the `setup` method can be used \n",
    "without the `run` method, as we do here. This allows us to manually\n",
    "inspect the prepared files and ensure they are correct before\n",
    "actually running a potentially expensive model.\n",
    "\n",
    "Each input exogenous uncertainty or policy lever can potentially\n",
    "be used to manipulate multiple different aspects of the underlying\n",
    "core model.  For example, a policy lever that includes a number of\n",
    "discrete future network \"build\" options might trigger the replacement\n",
    "of multiple related network definition files.  Or, a single uncertainty\n",
    "relating to the cost of fuel might scale both a parameter linked to\n",
    "the modeled per-mile cost of operating an automobile and the\n",
    "modeled total cost of fuel used by transit services."
   ]
  },
  {
   "cell_type": "code",
   "execution_count": null,
   "metadata": {
    "ExecuteTime": {
     "end_time": "2020-09-12T22:13:43.929305Z",
     "start_time": "2020-09-12T22:13:43.919082Z"
    }
   },
   "outputs": [],
   "source": [
    "params = fx.scope.get_parameter_defaults()\n",
    "params"
   ]
  },
  {
   "cell_type": "code",
   "execution_count": null,
   "metadata": {
    "ExecuteTime": {
     "end_time": "2020-09-12T22:02:07.488924Z",
     "start_time": "2020-09-12T22:02:07.447396Z"
    }
   },
   "outputs": [],
   "source": [
    "fx.setup(params)"
   ]
  },
  {
   "cell_type": "markdown",
   "metadata": {},
   "source": [
    "### run"
   ]
  },
  {
   "cell_type": "markdown",
   "metadata": {},
   "source": [
    "The `run` method is the place where the core model run takes place.\n",
    "Note that this method takes no arguments; all the input\n",
    "exogenous uncertainties and policy levers are delivered to the\n",
    "core model in the `setup` method, which will be executed prior\n",
    "to calling this method. This facilitates debugging, as the `setup`\n",
    "method can be used without the `run` method as we did above, allowing\n",
    "us to manually inspect the prepared files and ensure they\n",
    "are correct before actually running a potentially expensive model."
   ]
  },
  {
   "cell_type": "code",
   "execution_count": null,
   "metadata": {
    "ExecuteTime": {
     "end_time": "2020-07-02T02:37:15.488647Z",
     "start_time": "2020-07-02T02:37:15.486738Z"
    }
   },
   "outputs": [],
   "source": [
    "fx.run()"
   ]
  },
  {
   "cell_type": "markdown",
   "metadata": {},
   "source": [
    "### load-measures\n",
    "\n",
    "The `load_measures` method is the place to actually reach into\n",
    "files in the core model's run results and extract performance\n",
    "measures, returning a dictionary of key-value pairs for the \n",
    "various performance measures. It takes an optional list giving a \n",
    "subset of performance measures to load, and like the `post_process` \n",
    "method also can be pointed at an archive location instead of loading \n",
    "measures from the local working directory (which is the default).\n",
    "The `load_measures` method should not do any post-processing\n",
    "of results (i.e. it should read from but not write to the model\n",
    "outputs directory)."
   ]
  },
  {
   "cell_type": "code",
   "execution_count": null,
   "metadata": {
    "ExecuteTime": {
     "end_time": "2020-07-02T02:37:15.520132Z",
     "start_time": "2020-07-02T02:37:15.502049Z"
    }
   },
   "outputs": [],
   "source": [
    "fx.load_measures()"
   ]
  },
  {
   "cell_type": "markdown",
   "metadata": {},
   "source": [
    "### archive\n",
    "\n",
    "The `archive` method copies the relevant model output files to an archive location for \n",
    "longer term storage.  The particular archive location is based on the experiment id\n",
    "for a particular experiment, and can be customized if desired by overloading the \n",
    "`get_experiment_archive_path` method.  This customization is not done in this demo,\n",
    "so the default location is used."
   ]
  },
  {
   "cell_type": "code",
   "execution_count": null,
   "metadata": {
    "ExecuteTime": {
     "end_time": "2020-09-12T22:13:59.752864Z",
     "start_time": "2020-09-12T22:13:59.745103Z"
    }
   },
   "outputs": [],
   "source": [
    "fx.get_experiment_archive_path(parameters=params)"
   ]
  },
  {
   "cell_type": "markdown",
   "metadata": {},
   "source": [
    "Actually running the `archive` method should copy any relevant output files\n",
    "from the `model_path` of the current active model into a subdirectory of `archive_path`."
   ]
  },
  {
   "cell_type": "code",
   "execution_count": null,
   "metadata": {
    "ExecuteTime": {
     "end_time": "2020-07-02T02:37:15.541822Z",
     "start_time": "2020-07-02T02:37:15.530773Z"
    }
   },
   "outputs": [],
   "source": [
    "fx.archive(params)"
   ]
  },
  {
   "cell_type": "markdown",
   "metadata": {},
   "source": [
    "It is permissible, but not required, to simply copy the entire contents of the \n",
    "former to the latter, as is done in this example. However, if the current active model\n",
    "directory has a lot of boilerplate files that don't change with the inputs, or\n",
    "if it becomes full of intermediate or temporary files that definitely will never\n",
    "be used to compute performance measures, it can be advisable to selectively copy\n",
    "only relevant files. In that case, those files and whatever related sub-directory\n",
    "tree structure exists in the current active model should be replicated within the\n",
    "experiments archive directory."
   ]
  }
 ],
 "metadata": {
  "jupytext": {
   "formats": "ipynb,py:percent"
  },
  "kernelspec": {
   "display_name": "Python 3",
   "language": "python",
   "name": "python3"
  },
  "language_info": {
   "codemirror_mode": {
    "name": "ipython",
    "version": 3
   },
   "file_extension": ".py",
   "mimetype": "text/x-python",
   "name": "python",
   "nbconvert_exporter": "python",
   "pygments_lexer": "ipython3",
   "version": "3.7.8"
  },
  "pycharm": {
   "stem_cell": {
    "cell_type": "raw",
    "metadata": {
     "collapsed": false
    },
    "source": []
   }
  },
  "toc": {
   "base_numbering": 1,
   "nav_menu": {},
   "number_sections": true,
   "sideBar": true,
   "skip_h1_title": false,
   "title_cell": "Table of Contents",
   "title_sidebar": "Contents",
   "toc_cell": false,
   "toc_position": {
    "height": "calc(100% - 180px)",
    "left": "10px",
    "top": "150px",
    "width": "296.188px"
   },
   "toc_section_display": true,
   "toc_window_display": true
  }
 },
 "nbformat": 4,
 "nbformat_minor": 4
}
